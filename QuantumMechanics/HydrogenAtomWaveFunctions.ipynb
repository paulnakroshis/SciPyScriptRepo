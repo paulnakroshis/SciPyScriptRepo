{
 "cells": [
  {
   "cell_type": "markdown",
   "metadata": {
    "slideshow": {
     "slide_type": "slide"
    }
   },
   "source": [
    "# The Hydrogen atom wavefunctions\n",
    "\n",
    "Paul Nakroshis<br>\n",
    "Dept. of Physics, University of Southern Maine<br>\n",
    "pauln at maine dot edu<br>\n",
    "03 Apr 2019"
   ]
  },
  {
   "cell_type": "code",
   "execution_count": 1,
   "metadata": {
    "slideshow": {
     "slide_type": "slide"
    }
   },
   "outputs": [],
   "source": [
    "import numpy as np\n",
    "import matplotlib.pyplot as plt\n",
    "from scipy import signal\n",
    "from pylab import rcParams\n",
    "rcParams['figure.figsize'] = 12,10\n",
    "\n",
    "import seaborn as sns   # makes pretty plots\n",
    "%matplotlib inline\n",
    "#sns.set_style(\"darkgrid\", {\"grid.linewidth\": .5, \"axes.facecolor\": \".9\"})\n",
    "#sns.set_context(\"notebook\", font_scale=1.5, rc={\"lines.linewidth\": 2.5})\n",
    "#sns.set_context(\"paper\")\n",
    "#sns.set_context(\"talk\")"
   ]
  },
  {
   "cell_type": "markdown",
   "metadata": {},
   "source": [
    "In this notebook, I look at the Hydrogen atom wavefunctions which are solutions of Schr&ouml;dinger's equation in spherical coordinates\n",
    "\n",
    "$$ \\left(-\\frac{\\hbar^2}{2m}\\nabla^2 -\\frac{e^2}{4\\pi\\epsilon_0}\\frac{1}{r}\\right)\\psi(r,\\theta,\\phi) = E\\,\\psi(r,\\theta,\\phi),$$\n",
    "\n",
    "the standard solution method (found in any quantum text) is to use separation of variables to solve for the angular $(\\theta, \\phi)$ and radial $r$ solutions.\n",
    "The solutions are given by \n",
    " $$\\psi(r,\\theta,\\phi) = \\left\\{\\sqrt{ \\left( \\frac{2}{n a_0}\\right) \\frac{(n-l-1)!}{2n(n+l)!} } e^{-r/na_0} \\left( \\frac{2r}{na_0} \\right)^l \\left[ L^{2l+1}_{n-l-1} \\left( \\frac{2r}{na_0} \\right) \\right]\\right\\} Y^m_l(\\theta,\\phi) $$\n",
    "where $L^{2l+1}_{n-l-1} \\left( \\frac{2r}{na_0} \\right) $ are the associated Laguerre polynomials, and $Y^m_l(\\theta,\\phi)$ are the spherical harmonics. The radial piece of the solution is enclosed in braces, the angular piece is simply the spherical harmonics. The quantum numbers determining the state of the electron are $(n,l,m)$, and $a_0$ is the Bohr radius:\n",
    "\n",
    "$$ a_0 = \\frac{4\\pi\\epsilon_0 \\hbar^2}{m_e e^2} = \\frac{\\hbar}{m_e c \\alpha} = 5.2917721067(12)\\times 10^{−11}\\; \\mathrm{m} $$\n",
    "\n",
    "The point of this notebook is to allow students to be able to visualize the pieces of this solution. The Hydrogen atom wavefunctions involve spherical harmonics and Associate Laguerre polynomials, the latter being foreign to most student's experience as a physics major. \n",
    "\n",
    "SciPy includes all the functionality to allow us to easily write code to plot the wavefunctions. The [Associated Laguerre polynomials](https://docs.scipy.org/doc/scipy/reference/generated/scipy.special.assoc_laguerre.html) and the [spherical harmonics](https://docs.scipy.org/doc/scipy-0.19.1/reference/generated/scipy.special.sph_harm.html) can be found in the scipy.special library. We import the scipy.special library here:"
   ]
  },
  {
   "cell_type": "code",
   "execution_count": 2,
   "metadata": {},
   "outputs": [],
   "source": [
    "import scipy.special as sp\n",
    "from scipy.special import factorial\n",
    "from scipy.special import sph_harm"
   ]
  },
  {
   "cell_type": "markdown",
   "metadata": {},
   "source": [
    "## Plot of the radial solution\n",
    "First we note that the argument, $\\left( \\frac{2r}{na_0} \\right) $, of the Associate Laguerre polynomial that appears in $\\psi(r,\\theta,\\phi)$ is the product of a dimensionless number $\\rho\\equiv\\frac{r}{a_0}$, and the dimensionless number $\\frac{2}{n}$ so that when we plot the polynomials we will use the x-axis as $\\rho = \\frac{r}{a_0}$. The function radial defines the full radial portion:"
   ]
  },
  {
   "cell_type": "code",
   "execution_count": 9,
   "metadata": {},
   "outputs": [],
   "source": [
    "def radial(ρ,n,l):\n",
    "    \"\"\"\n",
    "    This function computes the radial piece of the hydrogen atom wavefunction\n",
    "    in terms of the dimensionless parameter rho = r/a0, where a0 is the Bohr radius.\n",
    "    INPUT:\n",
    "    rho      :r/a0 \n",
    "    n        :principal quantum number\n",
    "    l        :angular momentum quantum number\n",
    "\n",
    "    RETURNS:\n",
    "    value of the radial piece of the wavefunction\n",
    "    \"\"\"\n",
    "    a0 = 5.2917721067e-11\n",
    "    return (2*ρ/n)**l * np.sqrt( factorial(n-l-1)/(n**2 * a0 * factorial(n + l))) * np.exp(-ρ/n) * sp.assoc_laguerre(2*ρ/n, n-l-1, 2*l+1)\n",
    "\n",
    "def angular(θ, ϕ, l, m):\n",
    "    \"\"\"\n",
    "    This function computes the angular portion (spherical harmonic) for hydrogen for a given l, m. \n",
    "    INPUT:\n",
    "    \\theta   :polar angle\n",
    "    \\phi.    :azimuthal angle\n",
    "    l        :angular momentum quantum number\n",
    "    m.       :magnetic quantum number\n",
    "\n",
    "    RETURNS:\n",
    "    value of the spherical harmonic\n",
    "    \"\"\"\n",
    "    return sph_harm(m, l, θ, ϕ)\n",
    "\n",
    "def ψ(ρ,θ,ϕ,n,l,m):\n",
    "    return radial(ρ,n,l)*angular(θ, ϕ, l, m)\n",
    "\n",
    "def prob_density(ρ,θ,ϕ,n,l,m):\n",
    "    return np.absolute(ψ(ρ,θ,ϕ,n,l,m))"
   ]
  },
  {
   "cell_type": "markdown",
   "metadata": {},
   "source": [
    "Now make a plot that uses the nifty widget feature of Jupyter notebooks to make it easy for a user to explore these polynomials:"
   ]
  },
  {
   "cell_type": "code",
   "execution_count": 4,
   "metadata": {},
   "outputs": [
    {
     "data": {
      "application/vnd.jupyter.widget-view+json": {
       "model_id": "9a4b3ce585494449976c2c1128fdcbda",
       "version_major": 2,
       "version_minor": 0
      },
      "text/plain": [
       "interactive(children=(IntSlider(value=5, description='n', max=10, min=1), IntSlider(value=4, description='l', …"
      ]
     },
     "metadata": {},
     "output_type": "display_data"
    }
   ],
   "source": [
    "#import ipywidgets as widgets\n",
    "from ipywidgets import interactive, IntSlider, interact\n",
    "\n",
    "def plot_radial(n, l):\n",
    "    plt.figure()\n",
    "    ρ = np.linspace(0,20,100)\n",
    "    plt.plot(ρ, radial(ρ, n, l))\n",
    "    #plt.ylim(-10,10)\n",
    "    plt.show()\n",
    "\n",
    "#n_widget = IntSlider(min=1, max=10, step=1, value=1)\n",
    "#l_widget = IntSlider(min=0, max=9, step=1)\n",
    "#def update_l_range(*args):\n",
    "#    l_widget.max = n_widget.value -1\n",
    "#n_widget.observe(update_l_range, 'value')\n",
    "#n_value = BoundedIntText(\n",
    "#    value=1,\n",
    "#    min=1,\n",
    "#    max=10,\n",
    "#    step=1,\n",
    "#    description='n:',\n",
    "#    disabled=False\n",
    "#)\n",
    "#l_value = BoundedIntText(\n",
    "#    value=1,\n",
    "#    min=0,\n",
    "#    max=9,\n",
    "#    step=1,\n",
    "#    description='l:',\n",
    "#    disabled=False\n",
    "#)\n",
    "\n",
    "#def update_l_value(*args):\n",
    "#    l_value.max = n_value.value -1\n",
    "#n_value.observe(update_l_value, 'value')\n",
    "nmax=10\n",
    "interactive_plot = interactive(plot_radial, n=(1,nmax), l=(0,nmax-1))\n",
    "output = interactive_plot.children[-1]\n",
    "output.layout.height = '900px'\n",
    "interactive_plot"
   ]
  },
  {
   "cell_type": "code",
   "execution_count": 14,
   "metadata": {},
   "outputs": [
    {
     "name": "stdout",
     "output_type": "stream",
     "text": [
      "[[2.01786252e-08 2.13542094e-08 2.25956996e-08 ... 2.25956996e-08\n",
      "  2.13542094e-08 2.01786252e-08]\n",
      " [2.07583926e-08 2.19690030e-08 2.32475609e-08 ... 2.32475609e-08\n",
      "  2.19690030e-08 2.07583926e-08]\n",
      " [2.13542094e-08 2.26008541e-08 2.39175492e-08 ... 2.39175492e-08\n",
      "  2.26008541e-08 2.13542094e-08]\n",
      " ...\n",
      " [7.99162502e-05 8.65860648e-05 9.38125420e-05 ... 9.38125420e-05\n",
      "  8.65860648e-05 7.99162502e-05]\n",
      " [7.99258792e-05 8.65965394e-05 9.38239366e-05 ... 9.38239366e-05\n",
      "  8.65965394e-05 7.99258792e-05]\n",
      " [7.99290891e-05 8.66000312e-05 9.38277352e-05 ... 9.38277352e-05\n",
      "  8.66000312e-05 7.99290891e-05]]\n"
     ]
    }
   ],
   "source": [
    "from bokeh.plotting import figure, show, output_file\n",
    "\n",
    "N = 500\n",
    "x = np.linspace(-20, 20, N)\n",
    "y = np.linspace(-20, 00, N)\n",
    "xx, yy = np.meshgrid(x, y)\n",
    "r = np.sqrt(xx**2 + yy**2)\n",
    "phi = np.arctan2(yy,xx)\n",
    "density = prob_density(r,np.pi,phi,1,0,0)\n",
    "print(density)\n",
    "\n",
    "p = figure(x_range=(-20,20), y_range=(-20, 20),\n",
    "           tooltips=[(\"x\", \"$x\"), (\"y\", \"$y\"), (\"value\", \"@image\")])\n",
    "\n",
    "# must give a vector of image data for image parameter\n",
    "p.image(image=[density], x=0, y=0, dw=10, dh=10, palette=\"Spectral11\")\n",
    "\n",
    "#output_file(\"image.html\", title=\"image.py example\")\n",
    "\n",
    "show(p)  # open a browser\n",
    "\n",
    "\n",
    "\n",
    "\n"
   ]
  },
  {
   "cell_type": "code",
   "execution_count": 17,
   "metadata": {},
   "outputs": [
    {
     "data": {
      "application/vnd.jupyter.widget-view+json": {
       "model_id": "bf04619d064d4c55b8cd7e84b5ec96f8",
       "version_major": 2,
       "version_minor": 0
      },
      "text/plain": [
       "interactive(children=(IntSlider(value=1, description='x', max=10, min=1), IntSlider(value=0, description='y', …"
      ]
     },
     "metadata": {},
     "output_type": "display_data"
    }
   ],
   "source": [
    "from ipywidgets import interactive, IntSlider, interact, BoundedIntText\n",
    "n_widget = IntSlider(min=1, max=10, step=1, value=1)\n",
    "l_widget = IntSlider(min=0, max=9, step=1)\n",
    "\n",
    "def update_l_range(*args):\n",
    "    l_widget.max = n_widget.value -1\n",
    "n_widget.observe(update_l_range, 'value')\n",
    "\n",
    "def printer(x, y):\n",
    "    print(x, y)\n",
    "interact(printer,x=n_widget, y=l_widget);"
   ]
  },
  {
   "cell_type": "code",
   "execution_count": 27,
   "metadata": {},
   "outputs": [
    {
     "data": {
      "application/vnd.jupyter.widget-view+json": {
       "model_id": "e635e73f681d43c6974a9c91bcffa6f6",
       "version_major": 2,
       "version_minor": 0
      },
      "text/plain": [
       "BoundedIntText(value=1, description='n:', max=10)"
      ]
     },
     "metadata": {},
     "output_type": "display_data"
    }
   ],
   "source": [
    "n_value = BoundedIntText(\n",
    "    value=1,\n",
    "    min=0,\n",
    "    max=10,\n",
    "    step=1,\n",
    "    description='n:',\n",
    "    disabled=False\n",
    ")\n",
    "n_value"
   ]
  },
  {
   "cell_type": "code",
   "execution_count": 28,
   "metadata": {},
   "outputs": [
    {
     "data": {
      "text/plain": [
       "2"
      ]
     },
     "execution_count": 28,
     "metadata": {},
     "output_type": "execute_result"
    }
   ],
   "source": [
    "n_value.value"
   ]
  },
  {
   "cell_type": "code",
   "execution_count": null,
   "metadata": {},
   "outputs": [],
   "source": []
  }
 ],
 "metadata": {
  "kernelspec": {
   "display_name": "Python 3",
   "language": "python",
   "name": "python3"
  },
  "language_info": {
   "codemirror_mode": {
    "name": "ipython",
    "version": 3
   },
   "file_extension": ".py",
   "mimetype": "text/x-python",
   "name": "python",
   "nbconvert_exporter": "python",
   "pygments_lexer": "ipython3",
   "version": "3.7.3"
  }
 },
 "nbformat": 4,
 "nbformat_minor": 1
}
