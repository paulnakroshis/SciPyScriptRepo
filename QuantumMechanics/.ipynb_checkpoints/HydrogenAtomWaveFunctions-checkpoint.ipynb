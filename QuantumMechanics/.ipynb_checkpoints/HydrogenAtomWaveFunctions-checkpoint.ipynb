{
 "cells": [
  {
   "cell_type": "markdown",
   "metadata": {
    "slideshow": {
     "slide_type": "slide"
    }
   },
   "source": [
    "# The Hydrogen atom wavefunctions\n",
    "\n",
    "Paul Nakroshis<br>\n",
    "Dept. of Physics, University of Southern Maine<br>\n",
    "pauln at maine dot edu<br>\n",
    "03 Apr 2019"
   ]
  },
  {
   "cell_type": "code",
   "execution_count": 1,
   "metadata": {
    "slideshow": {
     "slide_type": "slide"
    }
   },
   "outputs": [],
   "source": [
    "import numpy as np\n",
    "import matplotlib.pyplot as plt\n",
    "from scipy import signal\n",
    "from pylab import rcParams\n",
    "rcParams['figure.figsize'] = 10,8\n",
    "\n",
    "import seaborn as sns   # makes pretty plots\n",
    "%matplotlib inline\n",
    "#sns.set_style(\"darkgrid\", {\"grid.linewidth\": .5, \"axes.facecolor\": \".9\"})\n",
    "#sns.set_context(\"notebook\", font_scale=1.5, rc={\"lines.linewidth\": 2.5})\n",
    "#sns.set_context(\"paper\")\n",
    "#sns.set_context(\"talk\")"
   ]
  },
  {
   "cell_type": "markdown",
   "metadata": {},
   "source": [
    "In this notebook, I look at the Hydrogen atom wavefunctions which are solutions of Schr&ouml;dinger's equation in spherical coordinates\n",
    "\n",
    "$$ \\left(-\\frac{\\hbar^2}{2m}\\nabla^2 -\\frac{e^2}{4\\pi\\epsilon_0}\\frac{1}{r}\\right)\\psi(r,\\theta,\\phi) = E\\,\\psi(r,\\theta,\\phi),$$\n",
    "\n",
    "the standard solution method (found in any quantum text) is to use separation of variables to solve for the angular $(\\theta, \\phi)$ and radial $r$ solutions.\n",
    "The solutions are given by \n",
    " $$\\psi(r,\\theta,\\phi) = \\sqrt{ \\left( \\frac{2}{n a_0}\\right) \\frac{(n-l-1)!}{2n(n+l)!} } e^{-r/na_0} \\left( \\frac{2r}{na_0} \\right)^l \\left[ L^{2l+1}_{n-l-1} \\left( \\frac{2r}{na_0} \\right) \\right] Y^m_l(\\theta,\\phi) $$\n",
    "where $L^{2l+1}_{n-l-1} \\left( \\frac{2r}{na_0} \\right) $ are the associated Laguerre polynomials, and $Y^m_l(\\theta,\\phi)$ are the spherical harmonics. The quantum numbers determining the state of the electron are $(n,l,m)$, and $a_0$ is the Bohr radius:\n",
    "\n",
    "$$ a_0 = \\frac{4\\pi\\epsilon_0 \\hbar^2}{m_e e^2} = \\frac{\\hbar}{m_e c \\alpha} = 5.2917721067(12)\\times 10^{−11}\\; \\mathrm{m} $$\n",
    "\n",
    "The point of this notebook is to allow students to be able to visualize the pieces of this solution. The Hydrogen atom wavefunctions involve spherical harmonics and Associate Laguerre polynomials, the latter being foreign to most student's experience as a physics major. \n",
    "\n",
    "SciPy includes all the functionality to allow us to easily write code to plot the wavefunctions. The [Associated Laguerre polynomials](https://docs.scipy.org/doc/scipy/reference/generated/scipy.special.assoc_laguerre.html) and the [spherical harmonics](https://docs.scipy.org/doc/scipy-0.19.1/reference/generated/scipy.special.sph_harm.html) can be found in the scipy.special library. We import the scipy.special library here:"
   ]
  },
  {
   "cell_type": "code",
   "execution_count": 2,
   "metadata": {},
   "outputs": [],
   "source": [
    "import scipy.special as sp"
   ]
  },
  {
   "cell_type": "markdown",
   "metadata": {},
   "source": [
    "## Plot of a few Associate Laguerre polynomials\n",
    "First we note that the argument, $\\left( \\frac{2r}{na_0} \\right) $, of the Associate Laguerre polynomial that appears in $\\psi(r,\\theta,\\phi)$ is the product of a dimensionless number $\\rho\\equiv\\frac{r}{a_0}$, and the dimensionless number $\\frac{2}{n}$ so that when we plot the polynomials we will use the x-axis as $\\rho = \\frac{r}{a_0}$."
   ]
  },
  {
   "cell_type": "code",
   "execution_count": 7,
   "metadata": {},
   "outputs": [],
   "source": [
    "def radial(ρ,n,l):\n",
    "    \"\"\"\n",
    "    This function computes the Associate Laguerre polynomial value for the hydrogen atom\n",
    "    in terms of the dimensionless parameter rho = r/a0, where a0 is the Bohr radius.\n",
    "    INPUT:\n",
    "    rho      :r/a0 \n",
    "    n        :principal quantum number\n",
    "    l        :angular momentum quantum number\n",
    "\n",
    "    RETURNS:\n",
    "    value of the Associate Laguerre polynomial L^{2l+1}_{n-l-1} \\left( \\frac{2r}{na_0} \\right)\n",
    "    \"\"\"\n",
    "    return sp.assoc_laguerre(2*ρ/n, n-l-1, 2*l+1)"
   ]
  },
  {
   "cell_type": "markdown",
   "metadata": {},
   "source": [
    "Now make a plot that uses the nifty widget feature of Jupyter notebooks to make it easy for a user to explore these polynomials:"
   ]
  },
  {
   "cell_type": "code",
   "execution_count": 9,
   "metadata": {},
   "outputs": [
    {
     "ename": "AttributeError",
     "evalue": "'IntSlider' object has no attribute 'get'",
     "output_type": "error",
     "traceback": [
      "\u001b[0;31m---------------------------------------------------------------------------\u001b[0m",
      "\u001b[0;31mAttributeError\u001b[0m                            Traceback (most recent call last)",
      "\u001b[0;32m<ipython-input-9-3627fc22d2c8>\u001b[0m in \u001b[0;36m<module>\u001b[0;34m\u001b[0m\n\u001b[1;32m     16\u001b[0m \u001b[0;34m\u001b[0m\u001b[0m\n\u001b[1;32m     17\u001b[0m \u001b[0;34m\u001b[0m\u001b[0m\n\u001b[0;32m---> 18\u001b[0;31m \u001b[0minteractive_plot\u001b[0m \u001b[0;34m=\u001b[0m \u001b[0minteractive\u001b[0m\u001b[0;34m(\u001b[0m\u001b[0mplot_radial\u001b[0m\u001b[0;34m,\u001b[0m \u001b[0mn_widget\u001b[0m\u001b[0;34m,\u001b[0m \u001b[0ml\u001b[0m\u001b[0;34m=\u001b[0m\u001b[0;34m(\u001b[0m\u001b[0;36m0\u001b[0m\u001b[0;34m,\u001b[0m\u001b[0;36m9\u001b[0m\u001b[0;34m)\u001b[0m\u001b[0;34m)\u001b[0m\u001b[0;34m\u001b[0m\u001b[0;34m\u001b[0m\u001b[0m\n\u001b[0m\u001b[1;32m     19\u001b[0m \u001b[0moutput\u001b[0m \u001b[0;34m=\u001b[0m \u001b[0minteractive_plot\u001b[0m\u001b[0;34m.\u001b[0m\u001b[0mchildren\u001b[0m\u001b[0;34m[\u001b[0m\u001b[0;34m-\u001b[0m\u001b[0;36m1\u001b[0m\u001b[0;34m]\u001b[0m\u001b[0;34m\u001b[0m\u001b[0;34m\u001b[0m\u001b[0m\n\u001b[1;32m     20\u001b[0m \u001b[0moutput\u001b[0m\u001b[0;34m.\u001b[0m\u001b[0mlayout\u001b[0m\u001b[0;34m.\u001b[0m\u001b[0mheight\u001b[0m \u001b[0;34m=\u001b[0m \u001b[0;34m'600px'\u001b[0m\u001b[0;34m\u001b[0m\u001b[0;34m\u001b[0m\u001b[0m\n",
      "\u001b[0;32m/anaconda3/lib/python3.7/site-packages/ipywidgets/widgets/interaction.py\u001b[0m in \u001b[0;36m__init__\u001b[0;34m(self, _interactive__interact_f, _interactive__options, **kwargs)\u001b[0m\n\u001b[1;32m    177\u001b[0m         \u001b[0mself\u001b[0m\u001b[0;34m.\u001b[0m\u001b[0mf\u001b[0m \u001b[0;34m=\u001b[0m \u001b[0mf\u001b[0m \u001b[0;34m=\u001b[0m \u001b[0m__interact_f\u001b[0m\u001b[0;34m\u001b[0m\u001b[0;34m\u001b[0m\u001b[0m\n\u001b[1;32m    178\u001b[0m         \u001b[0mself\u001b[0m\u001b[0;34m.\u001b[0m\u001b[0mclear_output\u001b[0m \u001b[0;34m=\u001b[0m \u001b[0mkwargs\u001b[0m\u001b[0;34m.\u001b[0m\u001b[0mpop\u001b[0m\u001b[0;34m(\u001b[0m\u001b[0;34m'clear_output'\u001b[0m\u001b[0;34m,\u001b[0m \u001b[0;32mTrue\u001b[0m\u001b[0;34m)\u001b[0m\u001b[0;34m\u001b[0m\u001b[0;34m\u001b[0m\u001b[0m\n\u001b[0;32m--> 179\u001b[0;31m         \u001b[0mself\u001b[0m\u001b[0;34m.\u001b[0m\u001b[0mmanual\u001b[0m \u001b[0;34m=\u001b[0m \u001b[0m__options\u001b[0m\u001b[0;34m.\u001b[0m\u001b[0mget\u001b[0m\u001b[0;34m(\u001b[0m\u001b[0;34m\"manual\"\u001b[0m\u001b[0;34m,\u001b[0m \u001b[0;32mFalse\u001b[0m\u001b[0;34m)\u001b[0m\u001b[0;34m\u001b[0m\u001b[0;34m\u001b[0m\u001b[0m\n\u001b[0m\u001b[1;32m    180\u001b[0m         \u001b[0mself\u001b[0m\u001b[0;34m.\u001b[0m\u001b[0mmanual_name\u001b[0m \u001b[0;34m=\u001b[0m \u001b[0m__options\u001b[0m\u001b[0;34m.\u001b[0m\u001b[0mget\u001b[0m\u001b[0;34m(\u001b[0m\u001b[0;34m\"manual_name\"\u001b[0m\u001b[0;34m,\u001b[0m \u001b[0;34m\"Run Interact\"\u001b[0m\u001b[0;34m)\u001b[0m\u001b[0;34m\u001b[0m\u001b[0;34m\u001b[0m\u001b[0m\n\u001b[1;32m    181\u001b[0m         \u001b[0mself\u001b[0m\u001b[0;34m.\u001b[0m\u001b[0mauto_display\u001b[0m \u001b[0;34m=\u001b[0m \u001b[0m__options\u001b[0m\u001b[0;34m.\u001b[0m\u001b[0mget\u001b[0m\u001b[0;34m(\u001b[0m\u001b[0;34m\"auto_display\"\u001b[0m\u001b[0;34m,\u001b[0m \u001b[0;32mFalse\u001b[0m\u001b[0;34m)\u001b[0m\u001b[0;34m\u001b[0m\u001b[0;34m\u001b[0m\u001b[0m\n",
      "\u001b[0;31mAttributeError\u001b[0m: 'IntSlider' object has no attribute 'get'"
     ]
    }
   ],
   "source": [
    "#import ipywidgets as widgets\n",
    "from ipywidgets import interactive, IntSlider, interact\n",
    "\n",
    "def plot_radial(n, l):\n",
    "    plt.figure(1)\n",
    "    ρ = np.linspace(0,5,100)\n",
    "    plt.plot(ρ, radial(ρ, n, l))\n",
    "    plt.ylim(-10,10)\n",
    "    plt.show()\n",
    "\n",
    "n_widget = IntSlider(min=1, max=10, step=1, value=1)\n",
    "l_widget = IntSlider(min=0, max=9, step=1)\n",
    "def update_l_range(*args):\n",
    "    l_widget.max = n_widget.value -1\n",
    "n_widget.observe(update_l_range, 'value')\n",
    "\n",
    "\n",
    "interactive_plot = interactive(plot_radial, n=(1,10), l=(0,9))\n",
    "output = interactive_plot.children[-1]\n",
    "output.layout.height = '600px'\n",
    "interactive_plot"
   ]
  },
  {
   "cell_type": "code",
   "execution_count": 15,
   "metadata": {},
   "outputs": [
    {
     "data": {
      "application/vnd.jupyter.widget-view+json": {
       "model_id": "99ce2185ec3e47bbac7384774b8ef105",
       "version_major": 2,
       "version_minor": 0
      },
      "text/plain": [
       "interactive(children=(IntSlider(value=1, description='x', max=10, min=1), IntSlider(value=0, description='y', …"
      ]
     },
     "metadata": {},
     "output_type": "display_data"
    }
   ],
   "source": [
    "from ipywidgets import interactive, IntSlider, interact\n",
    "n_widget = IntSlider(min=1, max=10, step=1, value=1)\n",
    "l_widget = IntSlider(min=0, max=9, step=1)\n",
    "\n",
    "def update_l_range(*args):\n",
    "    l_widget.max = n_widget.value -1\n",
    "n_widget.observe(update_l_range, 'value')\n",
    "\n",
    "def printer(x, y):\n",
    "    print(x, y)\n",
    "interact(printer,x=n_widget, y=l_widget);"
   ]
  },
  {
   "cell_type": "code",
   "execution_count": null,
   "metadata": {},
   "outputs": [],
   "source": []
  }
 ],
 "metadata": {
  "kernelspec": {
   "display_name": "Python 3",
   "language": "python",
   "name": "python3"
  },
  "language_info": {
   "codemirror_mode": {
    "name": "ipython",
    "version": 3
   },
   "file_extension": ".py",
   "mimetype": "text/x-python",
   "name": "python",
   "nbconvert_exporter": "python",
   "pygments_lexer": "ipython3",
   "version": "3.7.3"
  }
 },
 "nbformat": 4,
 "nbformat_minor": 1
}
