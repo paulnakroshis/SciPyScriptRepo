{
  "cells": [
    {
      "cell_type": "code",
      "source": [
        "from numba import jit\n",
        "from numpy import arange\n",
        "\n",
        "# jit decorator tells Numba to compile this function.\n",
        "# The argument types will be inferred by Numba when function is called.\n",
        "@jit\n",
        "def sum2d(arr):\n",
        "    M, N = arr.shape\n",
        "    result = 0.0\n",
        "    for i in range(M):\n",
        "        for j in range(N):\n",
        "            result += arr[i,j]\n",
        "    return result\n",
        "\n",
        "a = arange(9).reshape(3,3)\n",
        "print(sum2d(a))"
      ],
      "outputs": [
        {
          "output_type": "stream",
          "name": "stdout",
          "text": [
            "36.0\n"
          ]
        }
      ],
      "execution_count": 1,
      "metadata": {
        "collapsed": false,
        "outputHidden": false,
        "inputHidden": false
      }
    },
    {
      "cell_type": "code",
      "source": [
        "def sum2dP(arr):\n",
        "    M, N = arr.shape\n",
        "    result = 0.0\n",
        "    for i in range(M):\n",
        "        for j in range(N):\n",
        "            result += arr[i,j]\n",
        "    return result"
      ],
      "outputs": [],
      "execution_count": 10,
      "metadata": {
        "collapsed": false,
        "outputHidden": false,
        "inputHidden": false
      }
    },
    {
      "cell_type": "code",
      "source": [
        "print(sum2dP(a))"
      ],
      "outputs": [
        {
          "output_type": "stream",
          "name": "stdout",
          "text": [
            "36.0\n"
          ]
        }
      ],
      "execution_count": 14,
      "metadata": {
        "collapsed": false,
        "outputHidden": false,
        "inputHidden": false
      }
    },
    {
      "cell_type": "code",
      "source": [
        "import timeit\n",
        "print(timeit.timeit(lambda:sum2d(a), number = 1000000))\n",
        "print(timeit.timeit(lambda:sum2dP(a), number = 1000000))"
      ],
      "outputs": [
        {
          "output_type": "stream",
          "name": "stdout",
          "text": [
            "0.31943458691239357\n",
            "4.211598303867504\n"
          ]
        }
      ],
      "execution_count": 20,
      "metadata": {
        "collapsed": false,
        "outputHidden": false,
        "inputHidden": false
      }
    },
    {
      "cell_type": "code",
      "source": [
        "4.2/0.32\n"
      ],
      "outputs": [
        {
          "output_type": "execute_result",
          "execution_count": 21,
          "data": {
            "text/plain": [
              "13.125"
            ]
          },
          "metadata": {}
        }
      ],
      "execution_count": 21,
      "metadata": {
        "collapsed": false,
        "outputHidden": false,
        "inputHidden": false
      }
    },
    {
      "cell_type": "code",
      "source": [],
      "outputs": [],
      "execution_count": null,
      "metadata": {
        "collapsed": false,
        "outputHidden": false,
        "inputHidden": false
      }
    }
  ],
  "metadata": {
    "kernelspec": {
      "name": "python3",
      "language": "python",
      "display_name": "Python 3"
    },
    "kernel_info": {
      "name": "python3"
    },
    "language_info": {
      "version": "3.5.2",
      "pygments_lexer": "ipython3",
      "nbconvert_exporter": "python",
      "mimetype": "text/x-python",
      "file_extension": ".py",
      "codemirror_mode": {
        "version": 3,
        "name": "ipython"
      },
      "name": "python"
    }
  },
  "nbformat": 4,
  "nbformat_minor": 4
}