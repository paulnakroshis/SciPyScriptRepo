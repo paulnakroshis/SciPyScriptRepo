{
  "cells": [
    {
      "cell_type": "markdown",
      "source": [
        "# Timing Python code and speeding things up with Numba\n",
        "For many small coding tasks, we use the computer to analyze a small amount of date, or simulate a simple system and speed is not really an issue. However, there are certainly many circumstances where speed **is** important. This post will show \n",
        "    \n",
        "    1. how to use python's *timeit* module to time code snippets and functions\n",
        "    2. how to use numba to speed up code (significantly---often by more than 10x)\n",
        "\n"
      ],
      "metadata": {}
    },
    {
      "cell_type": "markdown",
      "source": [
        "## Using *timeit* to test small code snippets\n",
        "Python has a nice module that can be used to time code (both from a bash terminal and from within a Jupyter Notebook or ipython console.) You can read about the *timeit* class at the [Python 3.6 Documentation page for the timeit module](https://docs.python.org/3/library/timeit.html?highlight=timeit#module-timeit); here I will confine myself to the *timeit.timeit()* function. The Python 3.6 Documentation defines this function as \n",
        "\n",
        "timeit.timeit(stmt='pass', setup='pass', timer=<default timer>, number=1000000, globals=None)\n",
        "\n",
        "Create a Timer instance with the given statement, setup code and timer function and run its timeit() method with *number* executions. The optional globals argument specifies a namespace in which to execute the code.\n",
        "\n",
        "The timeit.timeit() function returns a the time needed in units of seconds. Be careful when executing this function as it defaults to a million executions, and this could be prohibitively long for a complex function. \n",
        "\nLet's start with a simple example and get progressiely fancier."
      ],
      "metadata": {}
    },
    {
      "cell_type": "markdown",
      "source": [
        "### Timing a simple statement\n",
        "Here's how to use the function timeit.timeit() to time the execution time of numpy's $\\sin$\n",
        "function; specifically, I'll time how long in seconds it takes numpy to execute the $\\sin(\\pi/2)$ for number=10,000 times."
      ],
      "metadata": {}
    },
    {
      "cell_type": "code",
      "source": [
        "import math as m \n",
        "import numpy as np\n",
        "import timeit \n",
        "executionTimeNumpy = timeit.timeit(stmt = 'np.sin(np.pi/2)',\n",
        "              setup = 'import numpy as np',\n",
        "              number = 10000)\n",
        "print('time in milli-seconds = ',1000*executionTimeNumpy)"
      ],
      "outputs": [
        {
          "output_type": "stream",
          "name": "stdout",
          "text": [
            "time in milli-seconds =  8.608275005826727\n"
          ]
        }
      ],
      "execution_count": 1,
      "metadata": {
        "collapsed": false,
        "outputHidden": false,
        "inputHidden": false
      }
    },
    {
      "cell_type": "markdown",
      "source": [
        "Suppose you wanted to see how the exectution speed of numpy compares to the python math library's $\\sin(x)$ function; this is easy to test---the numpy library is not as fast as the math library for repeated evaluations of $\\sin(x)$:"
      ],
      "metadata": {}
    },
    {
      "cell_type": "code",
      "source": [
        "executionTimeMath = timeit.timeit(stmt = 'm.sin(m.pi/2)',\n",
        "              setup = 'import math as m',\n",
        "              number = 10000)\n",
        "print('time in milli-seconds = ',1000*executionTimeMath)\n",
        "print('speedup = ', executionTimeNumpy/executionTimeMath)"
      ],
      "outputs": [
        {
          "output_type": "stream",
          "name": "stdout",
          "text": [
            "time in milli-seconds =  1.5704590041423216\n",
            "speedup =  5.481375179562859\n"
          ]
        }
      ],
      "execution_count": 2,
      "metadata": {
        "collapsed": false,
        "outputHidden": false,
        "inputHidden": false
      }
    },
    {
      "cell_type": "markdown",
      "source": [
        "Now, since numpy is optimized to deal with matrices, you might expect that we could run the code faster if we simply created a numpy array of length 10,000 and with each element set to  $\\pi/2$ and then evaluating the $\\sin$ of each element. Let's see if this is faster. To do so, I will write two lines of code; the first makes a 10,000 element array filled with $\\pi/2$, and the second line directs numpy to take the $sin$ of each element. This code is assigned to a string variable with triple quotes, which the timeit() function will strip off before evaluation. "
      ],
      "metadata": {}
    },
    {
      "cell_type": "code",
      "source": [
        "s = '''\n",
        "angles = (np.pi/2)*np.ones(10000)\n",
        "sines = np.sin(angles)\n",
        "'''\n",
        "executionTimeNumpyArray = timeit.timeit(stmt = s,\n",
        "                      setup = 'import numpy as np',\n",
        "                      number = 1)\n",
        "print('time in milli-seconds = ', 1000*executionTimeNumpyArray)\n",
        "print('speedup = ', executionTimeNumpy/executionTimeNumpyArray)"
      ],
      "outputs": [
        {
          "output_type": "stream",
          "name": "stdout",
          "text": [
            "time in milli-seconds =  0.30331400921568274\n",
            "speedup =  28.38073661050549\n"
          ]
        }
      ],
      "execution_count": 3,
      "metadata": {
        "collapsed": false,
        "outputHidden": false,
        "inputHidden": false
      }
    },
    {
      "cell_type": "markdown",
      "source": [
        "### Timing a function\n",
        "Suppose you have a more complicated piece of code; one method would be to assign the multiline python commands as a string (as in previous example); another is to define a function. To time a function, we can use the timeit.timeit() fuction and add the globals=globals() to be able to access the function definition that in the global namespace without having to explicitly import the function:"
      ],
      "metadata": {}
    },
    {
      "cell_type": "code",
      "source": [
        "def sillyFunc():\n",
        "    m.sin(m.pi/2)\n",
        "    return\n",
        "executionTimeMath = timeit.timeit(stmt='sillyFunc', \n",
        "                              setup = 'import math as m',\n",
        "                              number = 100000,\n",
        "                              globals=globals())\n",
        "print('time in milli-seconds = ', 1000*executionTimeMath)"
      ],
      "outputs": [
        {
          "output_type": "stream",
          "name": "stdout",
          "text": [
            "time in milli-seconds =  2.783932999591343\n"
          ]
        }
      ],
      "execution_count": 4,
      "metadata": {
        "collapsed": false,
        "outputHidden": false,
        "inputHidden": false
      }
    },
    {
      "cell_type": "markdown",
      "source": [
        "## Using NUMBA to speed up raw python code\n",
        "The moral of the above tests are that if you can cast an operation into an array format, then you can significantly speed things up by using numpy. However, not all code can be \"vectorized\" in this manner. For more complex code, another option is to use Numba (see the [numba documentation](http://numba.pydata.org ) for more info). Numba takes a chunk of python code and using \"just-in-time\" compiling to turn the python code into machine level code, and allows one to achieve C-like speed (well, close anyway). "
      ],
      "metadata": {}
    },
    {
      "cell_type": "markdown",
      "source": [
        "### Simple function with no arguments\n",
        "Here we simply use the exact same format as the previous example, with the additon of \n",
        "importing numba's \"Just In Time\" or jit compiler. Notice that this runs about 10x faster than the math library version in the previous executable cell."
      ],
      "metadata": {}
    },
    {
      "cell_type": "code",
      "source": [
        "from numba import jit\n",
        "# jit decorator tells Numba to compile this function.\n",
        "# The argument types will be inferred by Numba when function is called.\n",
        "@jit\n",
        "def timeNUMBA():\n",
        "    m.sin(m.pi/2)\n",
        "    return\n",
        "\n",
        "executionTimeNumba = timeit.timeit(stmt='timeNUMBA', \n",
        "                              setup = 'import math as m',\n",
        "                              number = 10000,\n",
        "                              globals=globals())\n",
        "print('time in milli-seconds = ', 1000*executionTimeNumba)\n"
      ],
      "outputs": [
        {
          "output_type": "stream",
          "name": "stdout",
          "text": [
            "time in milli-seconds =  0.31654100166633725\n"
          ]
        }
      ],
      "execution_count": 5,
      "metadata": {
        "collapsed": false,
        "outputHidden": false,
        "inputHidden": false
      }
    },
    {
      "cell_type": "markdown",
      "source": [
        "### Function with multiple arguments\n",
        "The same idea works here; just specify the arguments in the timeit call:"
      ],
      "metadata": {}
    },
    {
      "cell_type": "code",
      "source": [
        "@jit\n",
        "def timeNUMBA_2(a,theta):\n",
        "    a*m.sin(theta)\n",
        "    return"
      ],
      "outputs": [],
      "execution_count": 6,
      "metadata": {}
    },
    {
      "cell_type": "code",
      "source": [
        "print('time in milli-seconds = ', 1000*timeit.timeit(stmt = 'timeNUMBA_2(1.0,m.pi/2)', \n",
        "                            setup ='import math as m',\n",
        "                            number=10000, \n",
        "                            globals=globals()))"
      ],
      "outputs": [
        {
          "output_type": "stream",
          "name": "stdout",
          "text": [
            "time in milli-seconds =  79.43454799533356\n"
          ]
        }
      ],
      "execution_count": 7,
      "metadata": {
        "collapsed": false,
        "outputHidden": false,
        "inputHidden": false
      }
    },
    {
      "cell_type": "markdown",
      "source": [
        "\nNotice, now, the following odd behavior --- the code above took WAY longer than you might expect. However, in the next cell, you'll see that for some reason the second and third execution times didn't suffer this problem. If someone can explain why this is the case, I'd be delighted to know why!"
      ],
      "metadata": {}
    },
    {
      "cell_type": "code",
      "source": [
        "timeMN2 = timeit.timeit('timeNUMBA_2(1.0,m.pi/2)', \n",
        "                            setup ='import math as m',\n",
        "                            number=10000, \n",
        "                            globals=globals())\n",
        "\n\n",
        "print('time in milli-seconds = ', 1000*timeMN2)\n"
      ],
      "outputs": [
        {
          "output_type": "stream",
          "name": "stdout",
          "text": [
            "time in milli-seconds =  3.043477001483552\n"
          ]
        }
      ],
      "execution_count": 8,
      "metadata": {
        "collapsed": false,
        "outputHidden": false,
        "inputHidden": false
      }
    },
    {
      "cell_type": "code",
      "source": [],
      "outputs": [],
      "execution_count": 9,
      "metadata": {
        "collapsed": false,
        "outputHidden": false,
        "inputHidden": false
      }
    },
    {
      "cell_type": "code",
      "source": [],
      "outputs": [],
      "execution_count": 9,
      "metadata": {
        "collapsed": false,
        "outputHidden": false,
        "inputHidden": false
      }
    },
    {
      "cell_type": "code",
      "source": [],
      "outputs": [],
      "execution_count": 9,
      "metadata": {
        "collapsed": false,
        "outputHidden": false,
        "inputHidden": false
      }
    },
    {
      "cell_type": "code",
      "source": [],
      "outputs": [],
      "execution_count": 9,
      "metadata": {
        "collapsed": false,
        "outputHidden": false,
        "inputHidden": false
      }
    }
  ],
  "metadata": {
    "kernelspec": {
      "name": "python3",
      "language": "python",
      "display_name": "Python 3"
    },
    "kernel_info": {
      "name": "python3"
    },
    "language_info": {
      "name": "python",
      "version": "3.6.0",
      "mimetype": "text/x-python",
      "codemirror_mode": {
        "name": "ipython",
        "version": 3
      },
      "pygments_lexer": "ipython3",
      "nbconvert_exporter": "python",
      "file_extension": ".py"
    }
  },
  "nbformat": 4,
  "nbformat_minor": 4
}