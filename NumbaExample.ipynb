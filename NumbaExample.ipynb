{
 "cells": [
  {
   "cell_type": "markdown",
   "metadata": {},
   "source": [
    "# Timing Python code and speeding things up with Numba\n",
    "For many small coding tasks, we use the computer to analyze a small amount of data, or we use it to simulate a simple system and speed is not really an issue. However, there are certainly many circumstances where speed **is** important. This post will show \n",
    "    \n",
    "    1. how to use python's *timeit* module to time code snippets and functions\n",
    "    2. how to use numba to speed up code (significantly---often by more than 10x)\n",
    "\n"
   ]
  },
  {
   "cell_type": "markdown",
   "metadata": {},
   "source": [
    "## Using *timeit* to test small code snippets\n",
    "Python has a nice module that can be used to time code (both from a bash terminal and from within a Jupyter Notebook or ipython console.) You can read about the *timeit* class at the [Python 3.6 Documentation page for the timeit module](https://docs.python.org/3/library/timeit.html?highlight=timeit#module-timeit); here I will confine myself to the *timeit.timeit()* function. The Python 3.6 Documentation defines this function as \n",
    "\n",
    "timeit.timeit(stmt='pass', setup='pass', timer=<default timer>, number=1000000, globals=None)\n",
    "\n",
    "Create a Timer instance with the given statement, setup code and timer function and run its timeit() method with *number* executions. The optional globals argument specifies a namespace in which to execute the code.\n",
    "\n",
    "The timeit.timeit() function returns a the time needed in units of seconds. Be careful when executing this function as it defaults to a million executions, and this could be prohibitively long for a complex function. \n",
    "\n",
    "Let's start with a simple example and get progressively fancier."
   ]
  },
  {
   "cell_type": "markdown",
   "metadata": {},
   "source": [
    "### Timing a simple statement\n",
    "Here's how to use the function timeit.timeit() to time the execution time of numpy's $\\sin$\n",
    "function; specifically, I'll time how long in seconds it takes numpy to execute the $\\sin(\\pi/2)$ for number=10,000 times."
   ]
  },
  {
   "cell_type": "code",
   "execution_count": 1,
   "metadata": {
    "collapsed": false,
    "inputHidden": false,
    "outputHidden": false
   },
   "outputs": [
    {
     "name": "stdout",
     "output_type": "stream",
     "text": [
      "time in milli-seconds =  6.162262987345457\n"
     ]
    }
   ],
   "source": [
    "import math as m \n",
    "import numpy as np\n",
    "import timeit \n",
    "executionTimeNP = timeit.timeit(stmt = 'np.sin(np.pi/2)',\n",
    "                                   setup = 'import numpy as np',\n",
    "                                   number = 10000)\n",
    "print('time in milli-seconds = ',1000*executionTimeNP)"
   ]
  },
  {
   "cell_type": "markdown",
   "metadata": {},
   "source": [
    "Suppose you wanted to see how the exectution speed of numpy compares to the python math library's $\\sin(x)$ function; this is easy to test---the numpy library is not as fast as the math library for repeated evaluations of $\\sin(x)$:"
   ]
  },
  {
   "cell_type": "code",
   "execution_count": 2,
   "metadata": {
    "collapsed": false,
    "inputHidden": false,
    "outputHidden": false
   },
   "outputs": [
    {
     "name": "stdout",
     "output_type": "stream",
     "text": [
      "time in milli-seconds =  1.577157061547041\n",
      "The Math library is, for this operation  3.91  times faster than NumPy.\n"
     ]
    }
   ],
   "source": [
    "executionTimeMath = timeit.timeit(stmt = 'm.sin(m.pi/2)',\n",
    "                                  setup = 'import math as m',\n",
    "                                  number = 10000)\n",
    "print('time in milli-seconds = ',1000*executionTimeMath)\n",
    "print('The Math library is, for this operation ', \\\n",
    "      round(executionTimeNP/executionTimeMath,2), \\\n",
    "      ' times faster than NumPy.')"
   ]
  },
  {
   "cell_type": "markdown",
   "metadata": {},
   "source": [
    "Now, since numpy is optimized to deal with matrices, you might expect that we could run the code faster if we simply created a numpy array of length 10,000 and with each element set to  $\\pi/2$ and then evaluating the $\\sin$ of each element. Let's see if this is faster. To do so, I will write two lines of code; the first makes a 10,000 element array filled with $\\pi/2$, and the second line directs numpy to take the $sin$ of each element. This code is assigned to a string variable with triple quotes, which the timeit() function will strip off before evaluation. "
   ]
  },
  {
   "cell_type": "code",
   "execution_count": 3,
   "metadata": {
    "collapsed": false,
    "inputHidden": false,
    "outputHidden": false
   },
   "outputs": [
    {
     "name": "stdout",
     "output_type": "stream",
     "text": [
      "time in milli-seconds =  0.6263998802751303\n",
      "However, using NumPy in the manner in \n",
      "which it was designed for yields a\n",
      " 9.84 speed increase\n"
     ]
    }
   ],
   "source": [
    "s = '''\n",
    "angles = (np.pi/2)*np.ones(10000)\n",
    "sines = np.sin(angles)\n",
    "'''\n",
    "executionTimeNP_Array = timeit.timeit(stmt = s,\n",
    "                              setup = 'import numpy as np',\n",
    "                              number = 1)\n",
    "print('time in milli-seconds = ', 1000*executionTimeNP_Array)\n",
    "print('However, using NumPy in the manner in \\n' \\\n",
    "        'which it was designed for yields a\\n',\\\n",
    "        round(executionTimeNP/executionTimeNP_Array,2),\\\n",
    "        'speed increase')"
   ]
  },
  {
   "cell_type": "markdown",
   "metadata": {},
   "source": [
    "### Timing a function\n",
    "Suppose you have a more complicated piece of code; one method would be to assign the multiline python commands as a string (as in previous example); another is to define a function. To time a function, we can use the timeit.timeit() fuction and add the globals=globals() to be able to access the function definition that in the global namespace without having to explicitly import the function:"
   ]
  },
  {
   "cell_type": "code",
   "execution_count": 4,
   "metadata": {
    "collapsed": false,
    "inputHidden": false,
    "outputHidden": false
   },
   "outputs": [
    {
     "name": "stdout",
     "output_type": "stream",
     "text": [
      "time in milli-seconds =  1.93\n"
     ]
    }
   ],
   "source": [
    "def sillyFunc():\n",
    "    m.sin(m.pi/2)\n",
    "    return\n",
    "executionTimeM = timeit.timeit(stmt='sillyFunc', \n",
    "                               setup = 'import math as m',\n",
    "                               number = 100000,\n",
    "                               globals=globals())\n",
    "print('time in milli-seconds = ', round(1000*executionTimeM,2))"
   ]
  },
  {
   "cell_type": "markdown",
   "metadata": {},
   "source": [
    "## Using NUMBA to speed up raw python code\n",
    "The moral of the above tests are that if you can cast an operation into an array format, then you can significantly speed things up by using numpy. However, not all code can be \"vectorized\" in this manner. For more complex code, another option is to use Numba (see the [numba documentation](http://numba.pydata.org ) for more info). Numba takes a chunk of python code and using \"just-in-time\" compiling to turn the python code into machine level code, and allows one to achieve C-like speed (well, close anyway). "
   ]
  },
  {
   "cell_type": "markdown",
   "metadata": {},
   "source": [
    "### Simple function with no arguments\n",
    "Here we simply use the exact same format as the previous example, with the additon of \n",
    "importing numba's \"Just In Time\" or jit compiler. Notice that this runs about 10x faster than the math library version in the previous executable cell, and twice as fast as the numpy array method."
   ]
  },
  {
   "cell_type": "code",
   "execution_count": 9,
   "metadata": {
    "collapsed": false,
    "inputHidden": false,
    "outputHidden": false
   },
   "outputs": [
    {
     "name": "stdout",
     "output_type": "stream",
     "text": [
      "time in milli-seconds =  0.16\n"
     ]
    }
   ],
   "source": [
    "from numba import jit\n",
    "# jit decorator tells Numba to compile this function.\n",
    "# The argument types will be inferred by Numba when function is called.\n",
    "@jit\n",
    "def timeNUMBA():\n",
    "    m.sin(m.pi/2)\n",
    "    return\n",
    "\n",
    "executionTimeNumba = timeit.timeit(stmt='timeNUMBA', \n",
    "                                   setup = 'import math as m',\n",
    "                                   number = 10000,\n",
    "                                   globals=globals())\n",
    "print('time in milli-seconds = ', round(1000*executionTimeNumba,2))"
   ]
  },
  {
   "cell_type": "markdown",
   "metadata": {},
   "source": [
    "### Function with multiple arguments\n",
    "The same idea works here; just specify the arguments in the timeit call:"
   ]
  },
  {
   "cell_type": "code",
   "execution_count": 6,
   "metadata": {
    "collapsed": false
   },
   "outputs": [],
   "source": [
    "@jit\n",
    "def timeNUMBA_2(a,theta):\n",
    "    a*m.sin(theta)\n",
    "    return"
   ]
  },
  {
   "cell_type": "markdown",
   "metadata": {},
   "source": [
    "#### A problem with Numba?\n",
    "Watch what happens if I time this two-argument function:"
   ]
  },
  {
   "cell_type": "code",
   "execution_count": 10,
   "metadata": {
    "collapsed": false,
    "inputHidden": false,
    "outputHidden": false
   },
   "outputs": [
    {
     "name": "stdout",
     "output_type": "stream",
     "text": [
      "time in milli-seconds =  2.232097089290619\n"
     ]
    }
   ],
   "source": [
    "executionTimeMult = timeit.timeit(stmt = 'timeNUMBA_2(1.0,m.pi/2)', \n",
    "                                  setup ='import math as m',\n",
    "                                  number=10000, \n",
    "                                  globals=globals())\n",
    "print('time in milli-seconds = ', 1000*executionTimeMult)"
   ]
  },
  {
   "cell_type": "markdown",
   "metadata": {},
   "source": [
    "The odd issue here is that the code above took WAY longer than you might expect. However, in the next cell, you'll see that for some reason the second execution time didn't suffer this problem. My guess is that somehow it has to do with numba itself; if, after defining the function timeNUMBA_2(a,theta), I add a single call to the function, then this seems to fix the problem. Try it and see; add the call as shown below to the cell two up from here, and rerun the notebook, and you'll see that the problem goes away.\n",
    "<pre>\n",
    "@jit\n",
    "def timeNUMBA_2(a,theta):\n",
    "    a*m.sin(theta)\n",
    "    return\n",
    "timeNUMBA_2(1.0, m.pi/2)  # add this line, restart the kernal and re-run all cells\n",
    "</pre>\n"
   ]
  },
  {
   "cell_type": "code",
   "execution_count": 8,
   "metadata": {
    "collapsed": false,
    "inputHidden": false,
    "outputHidden": false
   },
   "outputs": [
    {
     "name": "stdout",
     "output_type": "stream",
     "text": [
      "time in milli-seconds =  4.241842078045011\n"
     ]
    }
   ],
   "source": [
    "timeMN2 = timeit.timeit('timeNUMBA_2(1.0,m.pi/2)', \n",
    "                            setup ='import math as m',\n",
    "                            number=10000, \n",
    "                            globals=globals())\n",
    "\n",
    "print('time in milli-seconds = ', 1000*timeMN2)"
   ]
  },
  {
   "cell_type": "markdown",
   "metadata": {
    "collapsed": false,
    "inputHidden": false,
    "outputHidden": false
   },
   "source": [
    "Using the timeit module to time code is a convienent and relatively simple way to test your python code; Numba can significantly speed up code too, but apparently there is a bug in numba that it is important to be aware of...if there is a fix or anyone can explain how to avoid this, I'd be delighted to know. "
   ]
  }
 ],
 "metadata": {
  "kernel_info": {
   "name": "python3"
  },
  "kernelspec": {
   "display_name": "Python [default]",
   "language": "python",
   "name": "python3"
  },
  "language_info": {
   "codemirror_mode": {
    "name": "ipython",
    "version": 3
   },
   "file_extension": ".py",
   "mimetype": "text/x-python",
   "name": "python",
   "nbconvert_exporter": "python",
   "pygments_lexer": "ipython3",
   "version": "3.5.2"
  }
 },
 "nbformat": 4,
 "nbformat_minor": 4
}
